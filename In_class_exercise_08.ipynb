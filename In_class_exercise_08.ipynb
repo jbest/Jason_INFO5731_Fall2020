{
  "nbformat": 4,
  "nbformat_minor": 0,
  "metadata": {
    "kernelspec": {
      "display_name": "Python 3",
      "language": "python",
      "name": "python3"
    },
    "language_info": {
      "codemirror_mode": {
        "name": "ipython",
        "version": 3
      },
      "file_extension": ".py",
      "mimetype": "text/x-python",
      "name": "python",
      "nbconvert_exporter": "python",
      "pygments_lexer": "ipython3",
      "version": "3.8.5"
    },
    "colab": {
      "name": "In_class_exercise_08-1.ipynb",
      "provenance": [],
      "collapsed_sections": [],
      "toc_visible": true
    }
  },
  "cells": [
    {
      "cell_type": "markdown",
      "metadata": {
        "id": "EmyKvt1ZzzPB"
      },
      "source": [
        "# **The eighth in-class-exercise (20 points in total, 3/30/2021)**"
      ]
    },
    {
      "cell_type": "markdown",
      "metadata": {
        "id": "zU51HrvLzzPI"
      },
      "source": [
        "The data for this exercise is from the dataset you created from assignment three. Please perform answer the following questions based on your data:"
      ]
    },
    {
      "cell_type": "markdown",
      "metadata": {
        "id": "fokbY8_-zzPK"
      },
      "source": [
        "## (1) (10 points) Write a python program to extract the sentiment related terms from the corpus. You may use python package such as polyglot or external lexicon resources in the question. Rank the sentiment related terms by frequency."
      ]
    },
    {
      "cell_type": "code",
      "metadata": {
        "colab": {
          "base_uri": "https://localhost:8080/"
        },
        "id": "3zDcju554KyL",
        "outputId": "4bbfea95-bf5a-43ae-9b05-81499bf53b33"
      },
      "source": [
        "# Install modules\n",
        "!pip install polyglot\n",
        "!pip install PyICU\n",
        "!pip install pycld2\n",
        "!pip install Morfessor\n",
        "\n",
        "# Download models\n",
        "from polyglot.downloader import downloader\n",
        "downloader.download(\"sentiment2.en\")\n",
        "import nltk\n",
        "nltk.download('wordnet')"
      ],
      "execution_count": 37,
      "outputs": [
        {
          "output_type": "stream",
          "text": [
            "Requirement already satisfied: polyglot in /usr/local/lib/python3.7/dist-packages (16.7.4)\n",
            "Requirement already satisfied: PyICU in /usr/local/lib/python3.7/dist-packages (2.6)\n",
            "Requirement already satisfied: pycld2 in /usr/local/lib/python3.7/dist-packages (0.41)\n",
            "Requirement already satisfied: Morfessor in /usr/local/lib/python3.7/dist-packages (2.0.6)\n",
            "[polyglot_data] Downloading package sentiment2.en to\n",
            "[polyglot_data]     /root/polyglot_data...\n",
            "[polyglot_data]   Package sentiment2.en is already up-to-date!\n",
            "[nltk_data] Downloading package wordnet to /root/nltk_data...\n",
            "[nltk_data]   Unzipping corpora/wordnet.zip.\n"
          ],
          "name": "stdout"
        },
        {
          "output_type": "execute_result",
          "data": {
            "text/plain": [
              "True"
            ]
          },
          "metadata": {
            "tags": []
          },
          "execution_count": 37
        }
      ]
    },
    {
      "cell_type": "code",
      "metadata": {
        "id": "HvjiOvZILYH-"
      },
      "source": [
        "import requests\n",
        "import csv\n",
        "from polyglot.text import Text\n",
        "from textblob import Word\n",
        "import operator\n",
        "\n",
        "# Download dataset\n",
        "url = 'https://raw.githubusercontent.com/jbest/Jason_INFO5731_Spring2021/main/citeseerx_results_sentiment.csv'\n",
        "\n",
        "r = requests.get(url)\n",
        "with open(\"dataset.csv\", 'wb') as f:\n",
        "    f.write(r.content) "
      ],
      "execution_count": 50,
      "outputs": []
    },
    {
      "cell_type": "code",
      "metadata": {
        "colab": {
          "base_uri": "https://localhost:8080/"
        },
        "id": "HTggmP20zzPL",
        "outputId": "5c445fab-63b4-4a68-82eb-9cfe3acc127e"
      },
      "source": [
        "sentiments = {}\n",
        "sentiments_lemmed = {}\n",
        "# read dataset\n",
        "with open('dataset.csv', mode='r', encoding='utf-8-sig') as data_file:\n",
        "  reader = csv.DictReader(data_file)\n",
        "  for row in reader:\n",
        "    text = Text(row['abstract'])\n",
        "    try:\n",
        "      for w in text.words:\n",
        "        if w.polarity != 0:\n",
        "          sentiment_count = sentiments.get(w, 0)\n",
        "          sentiment_count += 1\n",
        "          sentiments[w] = sentiment_count\n",
        "          #lemmed\n",
        "          w_lemmed = Word(w).lemmatize()\n",
        "          sentiment_lemmed_count = sentiments_lemmed.get(w_lemmed, 0)\n",
        "          sentiment_lemmed_count += 1\n",
        "          sentiments_lemmed[w_lemmed] = sentiment_lemmed_count\n",
        "          \n",
        "    except ValueError:\n",
        "      # empty token\n",
        "      pass\n",
        "\n",
        "#print(sentiments)\n",
        "#print(sentiments_lemmed)\n",
        "sorted_sentiments = sorted(sentiments_lemmed.items(), key=operator.itemgetter(1))\n",
        "print('Words with sentiment value and frequency count:')\n",
        "print(sorted_sentiments)"
      ],
      "execution_count": 91,
      "outputs": [
        {
          "output_type": "stream",
          "text": [
            "Detector is not able to detect the language reliably.\n",
            "Detector is not able to detect the language reliably.\n",
            "Detector is not able to detect the language reliably.\n",
            "Detector is not able to detect the language reliably.\n",
            "Detector is not able to detect the language reliably.\n",
            "Detector is not able to detect the language reliably.\n",
            "Detector is not able to detect the language reliably.\n",
            "Detector is not able to detect the language reliably.\n",
            "Detector is not able to detect the language reliably.\n"
          ],
          "name": "stderr"
        },
        {
          "output_type": "stream",
          "text": [
            "Words with sentiment value and frequency count:\n",
            "[('efficiently', 1), ('versatility', 1), ('coherence', 1), ('suitable', 1), ('responsive', 1), ('accomplish', 1), ('ambiguous', 1), ('lying', 1), ('vague', 1), ('precise', 1), ('complement', 1), ('gained', 1), ('clearer', 1), ('promising', 1), ('revival', 1), ('chaotic', 1), ('led', 1), ('inevitably', 1), ('revolutionized', 1), ('proper', 1), ('noise', 1), ('clean', 1), ('isolate', 1), ('easy', 1), ('gain', 1), ('restructured', 1), ('restructuring', 1), ('readable', 1), ('capable', 1), ('complicated', 1), ('simplified', 1), ('unsuccessful', 1), ('degrade', 1), ('lack', 1), ('pervasive', 1), ('prominent', 1), ('subjected', 1), ('secure', 1), ('unfamiliar', 1), ('creative', 1), ('dominate', 1), ('threatening', 1), ('ease', 1), ('tense', 1), ('friendly', 1), ('romantic', 1), ('humorous', 1), ('radical', 1), ('urgent', 1), ('caricature', 1), ('pure', 1), ('lead', 1), ('refinement', 1), ('critical', 1), ('worth', 1), ('failure', 1), ('boom', 1), ('danger', 1), ('excessive', 1), ('optimism', 1), ('neglected', 1), ('naive', 1), ('worse', 1), ('encouraging', 1), ('hard', 1), ('ideal', 1), ('satisfies', 1), ('correct', 1), ('thank', 1), ('achievement', 1), ('exploit', 1), ('superficial', 1), ('complementary', 1), ('free', 1), ('roadblock', 1), ('exciting', 1), ('gold', 1), ('dire', 1), ('beneficial', 1), ('advanced', 1), ('backbone', 1), ('adaptive', 1), ('restricted', 1), ('feasible', 1), ('gaining', 1), ('unable', 1), ('improved', 1), ('fail', 1), ('outperform', 1), ('improves', 1), ('stereotypical', 1), ('unnecessary', 1), ('correctly', 1), ('strict', 1), ('enrich', 1), ('tedious', 1), ('invaluable', 1), ('intense', 1), ('simplifying', 1), ('mar', 1), ('implication', 1), ('fairly', 1), ('productive', 1), ('disfavor', 1), ('revolutionary', 1), ('narrower', 2), ('error', 2), ('concerned', 2), ('appropriate', 2), ('great', 2), ('difficult', 2), ('modern', 2), ('intelligent', 2), ('coarse', 2), ('fine', 2), ('best', 2), ('motivated', 2), ('supported', 2), ('useful', 2), ('successfully', 2), ('improving', 2), ('dynamic', 2), ('integrated', 2), ('rapid', 2), ('bust', 2), ('static', 2), ('positive', 2), ('popular', 2), ('enhance', 2), ('confidence', 2), ('powerful', 3), ('enough', 3), ('accessible', 3), ('comprehensive', 3), ('difficulty', 3), ('complex', 3), ('successful', 3), ('sensitive', 3), ('effectively', 3), ('fall', 3), ('interesting', 4), ('limitation', 4), ('logical', 4), ('object', 4), ('noisy', 4), ('support', 4), ('progress', 4), ('improve', 4), ('sophisticated', 4), ('effectiveness', 4), ('benefit', 4), ('good', 5), ('like', 5), ('important', 5), ('variety', 5), ('success', 5), ('better', 6), ('significant', 6), ('limited', 6), ('intelligence', 7), ('well', 7), ('humor', 7), ('improvement', 7), ('available', 8), ('effective', 9), ('issue', 13), ('work', 16), ('problem', 19)]\n"
          ],
          "name": "stdout"
        }
      ]
    },
    {
      "cell_type": "markdown",
      "metadata": {
        "id": "igG-qUIrzzPM"
      },
      "source": [
        "## (2) (10 points) Compare the performance of the following tools in sentiment identification: TextBlob (https://textblob.readthedocs.io/en/dev/), VADER (https://github.com/cjhutto/vaderSentiment), TFIDF-based Support Vector Machine (SVM) (Split your data into training and testing data). Take your own annotation as the standard answers. \n",
        "\n",
        "Reference code: https://towardsdatascience.com/fine-grained-sentiment-analysis-in-python-part-1-2697bb111ed4"
      ]
    },
    {
      "cell_type": "code",
      "metadata": {
        "colab": {
          "base_uri": "https://localhost:8080/"
        },
        "id": "ZMfJvskeR3ju",
        "outputId": "78a21e78-0003-4176-9e58-d9f9245d6362"
      },
      "source": [
        "!pip install pytreebank\n",
        "import nltk\n",
        "nltk.download('punkt')\n",
        "nltk.download('averaged_perceptron_tagger')\n",
        "nltk.download('brown')\n",
        "nltk.download('vader_lexicon')"
      ],
      "execution_count": 67,
      "outputs": [
        {
          "output_type": "stream",
          "text": [
            "Requirement already satisfied: pytreebank in /usr/local/lib/python3.7/dist-packages (0.2.7)\n",
            "[nltk_data] Downloading package punkt to /root/nltk_data...\n",
            "[nltk_data]   Package punkt is already up-to-date!\n",
            "[nltk_data] Downloading package averaged_perceptron_tagger to\n",
            "[nltk_data]     /root/nltk_data...\n",
            "[nltk_data]   Package averaged_perceptron_tagger is already up-to-\n",
            "[nltk_data]       date!\n",
            "[nltk_data] Downloading package brown to /root/nltk_data...\n",
            "[nltk_data]   Package brown is already up-to-date!\n",
            "[nltk_data] Downloading package vader_lexicon to /root/nltk_data...\n"
          ],
          "name": "stdout"
        },
        {
          "output_type": "execute_result",
          "data": {
            "text/plain": [
              "True"
            ]
          },
          "metadata": {
            "tags": []
          },
          "execution_count": 67
        }
      ]
    },
    {
      "cell_type": "code",
      "metadata": {
        "id": "Pkt3QPiKzzPO",
        "colab": {
          "base_uri": "https://localhost:8080/"
        },
        "outputId": "93e7321d-d88f-4fec-9b51-fcb6437ce1fb"
      },
      "source": [
        "# Write your code here\n",
        "from textblob import TextBlob\n",
        "from nltk.sentiment.vader import SentimentIntensityAnalyzer\n",
        "vader = SentimentIntensityAnalyzer()\n",
        "\n",
        "with open('dataset.csv', mode='r', encoding='utf-8-sig') as data_file:\n",
        "  reader = csv.DictReader(data_file)\n",
        "  for row in reader:\n",
        "    #print(row['doc_id'])\n",
        "    abstract = row['abstract']\n",
        "    label_sentitment = row['sentiment']\n",
        "    # TextBlob analysis\n",
        "    blob = TextBlob(abstract)\n",
        "    #print(blob.sentiment.polarity)\n",
        "    vader_polarity = vader.polarity_scores(abstract)\n",
        "    # calculate a polarity score comprable to TextBlob\n",
        "    vader_score = 0 - float(vader_polarity['neg']) + float(vader_polarity['pos'])\n",
        "    #print (vader_score)\n",
        "    #print(label_sentitment)\n",
        "    print(f'TextBlob: {blob.sentiment.polarity}, VADER: {vader_score}, label: {label_sentitment}')\n",
        "    \n"
      ],
      "execution_count": 88,
      "outputs": [
        {
          "output_type": "stream",
          "text": [
            "TextBlob: 0.0, VADER: 0.0, label: neutral\n",
            "TextBlob: 0.06, VADER: 0.028999999999999998, label: neutral\n",
            "TextBlob: -0.2, VADER: 0.135, label: neutral\n",
            "TextBlob: 0.07916666666666666, VADER: -0.0049999999999999975, label: neutral\n",
            "TextBlob: 0.062499999999999986, VADER: 0.103, label: neutral\n",
            "TextBlob: 0.15, VADER: 0.07799999999999999, label: neutral\n",
            "TextBlob: 0.0858974358974359, VADER: 0.109, label: neutral\n",
            "TextBlob: 0.007142857142857145, VADER: 0.143, label: neutral\n",
            "TextBlob: 0.0625, VADER: 0.1, label: neutral\n",
            "TextBlob: 0.11666666666666667, VADER: 0.106, label: neutral\n",
            "TextBlob: 0.05584415584415585, VADER: 0.04, label: neutral\n",
            "TextBlob: 0.09956709956709958, VADER: 0.113, label: neutral\n",
            "TextBlob: 0.12138888888888887, VADER: 0.138, label: positive\n",
            "TextBlob: 0.18418367346938774, VADER: 0.146, label: neutral\n",
            "TextBlob: 0.18333333333333335, VADER: 0.025, label: neutral\n",
            "TextBlob: 0.04608695652173913, VADER: 0.151, label: neutral\n",
            "TextBlob: 0.05909090909090909, VADER: 0.08600000000000001, label: neutral\n",
            "TextBlob: 0.028571428571428574, VADER: 0.057, label: neutral\n",
            "TextBlob: -0.03383458646616541, VADER: -0.010000000000000002, label: neutral\n",
            "TextBlob: 0.0735294117647059, VADER: 0.074, label: neutral\n",
            "TextBlob: 0.01909090909090909, VADER: 0.065, label: neutral\n",
            "TextBlob: 0.15984848484848488, VADER: 0.044, label: neutral\n",
            "TextBlob: 0.11788888888888888, VADER: -0.0040000000000000036, label: positive\n",
            "TextBlob: 0.13333333333333333, VADER: 0.11, label: neutral\n",
            "TextBlob: 0.0, VADER: 0.094, label: neutral\n",
            "TextBlob: 0.08677248677248676, VADER: 0.086, label: neutral\n",
            "TextBlob: 0.07564534231200898, VADER: 0.061000000000000006, label: neutral\n",
            "TextBlob: 0.027020202020202017, VADER: 0.157, label: positive\n",
            "TextBlob: 0.0, VADER: 0.0, label: neutral\n",
            "TextBlob: 0.09318181818181817, VADER: 0.028, label: neutral\n",
            "TextBlob: 0.2407349896480331, VADER: 0.10200000000000001, label: neutral\n",
            "TextBlob: 0.15416666666666667, VADER: 0.223, label: neutral\n",
            "TextBlob: 0.08896103896103896, VADER: 0.09, label: neutral\n",
            "TextBlob: 0.09999999999999999, VADER: 0.067, label: neutral\n",
            "TextBlob: 0.0, VADER: 0.0, label: neutral\n",
            "TextBlob: 0.16973684210526316, VADER: 0.13, label: neutral\n",
            "TextBlob: 0.0, VADER: 0.0, label: neutral\n",
            "TextBlob: 0.13999999999999999, VADER: 0.08, label: neutral\n",
            "TextBlob: 0.15, VADER: -0.008, label: neutral\n",
            "TextBlob: 0.031000000000000007, VADER: 0.016, label: neutral\n",
            "TextBlob: 0.21958874458874458, VADER: 0.028000000000000004, label: neutral\n",
            "TextBlob: 0.0, VADER: -0.169, label: neutral\n",
            "TextBlob: 0.0, VADER: 0.0, label: neutral\n",
            "TextBlob: 0.0, VADER: 0.0, label: neutral\n",
            "TextBlob: 0.0, VADER: 0.0, label: neutral\n",
            "TextBlob: 0.0, VADER: 0.0, label: neutral\n",
            "TextBlob: 0.0, VADER: 0.0, label: neutral\n",
            "TextBlob: 0.0782828282828283, VADER: 0.0, label: neutral\n",
            "TextBlob: 0.16566558441558443, VADER: 0.067, label: neutral\n",
            "TextBlob: 0.05192307692307692, VADER: 0.052, label: neutral\n",
            "TextBlob: -0.10480769230769231, VADER: 0.033, label: neutral\n",
            "TextBlob: 0.03333333333333333, VADER: 0.05499999999999999, label: neutral\n",
            "TextBlob: 0.09596343372939117, VADER: 0.132, label: neutral\n",
            "TextBlob: 0.19166666666666665, VADER: 0.116, label: neutral\n",
            "TextBlob: 0.1, VADER: -0.04300000000000001, label: neutral\n",
            "TextBlob: -0.004444444444444445, VADER: 0.026, label: neutral\n",
            "TextBlob: 0.132, VADER: 0.124, label: neutral\n",
            "TextBlob: 0.10576923076923077, VADER: 0.07100000000000001, label: neutral\n",
            "TextBlob: 0.11860119047619047, VADER: 0.09399999999999999, label: neutral\n",
            "TextBlob: 0.05, VADER: 0.135, label: neutral\n",
            "TextBlob: 0.17564102564102563, VADER: 0.04400000000000001, label: neutral\n",
            "TextBlob: 0.17564102564102563, VADER: 0.04400000000000001, label: neutral\n",
            "TextBlob: 0.05714285714285715, VADER: 0.145, label: neutral\n",
            "TextBlob: 0.07239669421487603, VADER: 0.10400000000000001, label: neutral\n",
            "TextBlob: 0.2225, VADER: 0.06999999999999999, label: neutral\n",
            "TextBlob: 0.15208333333333335, VADER: 0.026000000000000002, label: neutral\n",
            "TextBlob: 0.11313131313131312, VADER: 0.124, label: neutral\n",
            "TextBlob: 0.03333333333333333, VADER: 0.135, label: neutral\n",
            "TextBlob: 0.1303030303030303, VADER: 0.012, label: neutral\n",
            "TextBlob: 0.08246031746031747, VADER: 0.081, label: neutral\n",
            "TextBlob: 0.09423076923076924, VADER: 0.047, label: neutral\n",
            "TextBlob: 0.10095238095238095, VADER: 0.048, label: neutral\n",
            "TextBlob: 0.0, VADER: 0.0, label: neutral\n",
            "TextBlob: 0.1161904761904762, VADER: 0.079, label: neutral\n",
            "TextBlob: 0.011647727272727263, VADER: 0.055, label: neutral\n",
            "TextBlob: -0.023809523809523808, VADER: 0.112, label: neutral\n",
            "TextBlob: 0.15, VADER: 0.091, label: neutral\n",
            "TextBlob: 0.0, VADER: 0.0, label: neutral\n",
            "TextBlob: 0.030000000000000006, VADER: 0.04599999999999999, label: neutral\n",
            "TextBlob: 0.07878787878787878, VADER: 0.085, label: neutral\n",
            "TextBlob: 0.0, VADER: 0.0, label: neutral\n",
            "TextBlob: 0.08095238095238097, VADER: 0.158, label: neutral\n",
            "TextBlob: 0.051470588235294115, VADER: 0.172, label: neutral\n",
            "TextBlob: 0.08333333333333333, VADER: 0.118, label: neutral\n",
            "TextBlob: -0.010582010582010581, VADER: 0.013000000000000005, label: neutral\n",
            "TextBlob: 0.039285714285714285, VADER: 0.09999999999999999, label: neutral\n",
            "TextBlob: 0.07469197469197467, VADER: 0.071, label: neutral\n",
            "TextBlob: 0.0, VADER: 0.0, label: neutral\n",
            "TextBlob: 0.05000000000000001, VADER: 0.352, label: neutral\n",
            "TextBlob: 0.06999999999999999, VADER: 0.033, label: neutral\n",
            "TextBlob: 0.13061224489795917, VADER: 0.07, label: neutral\n",
            "TextBlob: 0.4, VADER: 0.118, label: neutral\n",
            "TextBlob: -0.024761904761904763, VADER: 0.078, label: neutral\n",
            "TextBlob: 0.1136904761904762, VADER: 0.092, label: neutral\n",
            "TextBlob: 0.020512820512820527, VADER: 0.05600000000000001, label: neutral\n",
            "TextBlob: 0.10000000000000002, VADER: 0.079, label: neutral\n",
            "TextBlob: 0.15725457338360563, VADER: 0.094, label: neutral\n",
            "TextBlob: 0.15555555555555556, VADER: 0.076, label: positive\n",
            "TextBlob: 0.10000000000000002, VADER: 0.054, label: neutral\n",
            "TextBlob: 0.03333333333333333, VADER: 0.0050000000000000044, label: neutral\n"
          ],
          "name": "stdout"
        }
      ]
    },
    {
      "cell_type": "code",
      "metadata": {
        "id": "fs_jU8mXTZs5"
      },
      "source": [
        "# Your analysis here"
      ],
      "execution_count": null,
      "outputs": []
    },
    {
      "cell_type": "markdown",
      "metadata": {
        "id": "MKzoR8FMpWdB"
      },
      "source": [
        "Perhpas due to the academic nature of the source data (article abstracts), the sentiment of the texts were overwhelmingly classified as \"neutral\" by human annotation. As might be expected, neither the TextBlob sentiment score nor the VADER sentiment score deviated far from neutral in the 100 documents in the dataset."
      ]
    }
  ]
}