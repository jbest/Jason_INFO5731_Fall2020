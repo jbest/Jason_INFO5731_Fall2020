{
  "nbformat": 4,
  "nbformat_minor": 0,
  "metadata": {
    "kernelspec": {
      "display_name": "Python 3",
      "language": "python",
      "name": "python3"
    },
    "language_info": {
      "codemirror_mode": {
        "name": "ipython",
        "version": 3
      },
      "file_extension": ".py",
      "mimetype": "text/x-python",
      "name": "python",
      "nbconvert_exporter": "python",
      "pygments_lexer": "ipython3",
      "version": "3.8.5"
    },
    "colab": {
      "name": "In-class-exercise-05.ipynb",
      "provenance": [],
      "collapsed_sections": [],
      "toc_visible": true
    }
  },
  "cells": [
    {
      "cell_type": "markdown",
      "metadata": {
        "id": "ZcGN2YzglDf8"
      },
      "source": [
        "## The fifth In-class-exercise (2/23/2021, 20 points in total)"
      ]
    },
    {
      "cell_type": "markdown",
      "metadata": {
        "id": "_ZAT6n-3lDgF"
      },
      "source": [
        "In exercise-03, I asked you to collected 500 textual data based on your own information needs (If you didn't collect the textual data, you should recollect for this exercise). Now we need to think about how to represent the textual data for text classification. In this exercise, you are required to select 10 types of features (10 types of features but absolutely more than 10 features) in the followings feature list, then represent the 500 texts with these features. The output should be in the following format:\n",
        "![image.png](attachment:image.png)\n",
        "\n",
        "The feature list:\n",
        "\n",
        "* (1) tf-idf features\n",
        "* (2) POS-tag features: number of adjective, adverb, auxiliary, punctuation, complementizer, coordinating conjunction, subordinating conjunction, determiner, interjection, noun, possessor, preposition, pronoun, quantifier, verb, and other. (select some of them if you use pos-tag features)\n",
        "* (3) Linguistic features:\n",
        "  * number of right-branching nodes across all constituent types\n",
        "  * number of right-branching nodes for NPs only\n",
        "  * number of left-branching nodes across all constituent types\n",
        "  * number of left-branching nodes for NPs only\n",
        "  * number of premodifiers across all constituent types\n",
        "  * number of premodifiers within NPs only\n",
        "  * number of postmodifiers across all constituent types\n",
        "  * number of postmodifiers within NPs only\n",
        "  * branching index across all constituent types, i.e. the number of right-branching nodes minus number of left-branching nodes\n",
        "  * branching index for NPs only\n",
        "  * branching weight index: number of tokens covered by right-branching nodes minus number of tokens covered by left-branching nodes across all categories\n",
        "  * branching weight index for NPs only \n",
        "  * modification index, i.e. the number of premodifiers minus the number of postmodifiers across all categories\n",
        "  * modification index for NPs only\n",
        "  * modification weight index: length in tokens of all premodifiers minus length in tokens of all postmodifiers across all categories\n",
        "  * modification weight index for NPs only\n",
        "  * coordination balance, i.e. the maximal length difference in coordinated constituents\n",
        "  \n",
        "  * density (density can be calculated using the ratio of folowing function words to content words) of determiners/quantifiers\n",
        "  * density of pronouns\n",
        "  * density of prepositions\n",
        "  * density of punctuation marks, specifically commas and semicolons\n",
        "  * density of auxiliary verbs\n",
        "  * density of conjunctions\n",
        "  * density of different pronoun types: Wh, 1st, 2nd, and 3rd person pronouns\n",
        "  \n",
        "  * maximal and average NP length\n",
        "  * maximal and average AJP length\n",
        "  * maximal and average PP length\n",
        "  * maximal and average AVP length\n",
        "  * sentence length\n",
        "\n",
        "* Other features in your mind (ie., pre-defined patterns)"
      ]
    },
    {
      "cell_type": "code",
      "metadata": {
        "colab": {
          "base_uri": "https://localhost:8080/"
        },
        "id": "ssSX1NkYlDgG",
        "outputId": "fd1b87cb-1ada-4985-dfe5-c2e45b08857f"
      },
      "source": [
        "# Retrieve data\n",
        "import requests\n",
        "\n",
        "url = 'https://portal.torcherbaria.org/portal/collections/download/downloadhandler.php'\n",
        "schema = 'dwc' # Darwin Core\n",
        "file_format = 'csv' #form field name is 'format'\n",
        "cset = 'utf-8'\n",
        "publicsearch = '1'\n",
        "taxonFilterCode = '0'\n",
        "sourcepage = 'specimen'\n",
        "images = '1' # include images - 1, only includes image records\n",
        "zip_file = '0' # form field name is zip, default to not zip file\n",
        "if images == '1': # results must be zipped to get both specimen and image records\n",
        "  zip_file = '1' # form field name is zip\n",
        "# db=370 specifies the BRIT dataset, this can be changed to specify other datasets\n",
        "searchvar = 'db=370&state=Texas&county=Tarrant&hasimages=1'\n",
        "\n",
        "r = requests.post(url, data={'schema': schema, 'format': file_format, \n",
        "    'cset': cset, 'publicsearch': publicsearch, \n",
        "    'taxonFilterCode': taxonFilterCode, \n",
        "    'images': images, 'zip':zip_file,\n",
        "    'sourcepage': sourcepage, 'searchvar': searchvar},\n",
        "    stream=True)\n",
        "\n",
        "# Save data\n",
        "if zip_file == '0':\n",
        "  #Save CSV\n",
        "  filename = 'symbiota_data.csv'\n",
        "  with open(filename, 'w') as data_file:\n",
        "    data_file.write(r.text)\n",
        "  print(f'File {filename} saved.')\n",
        "\n",
        "if zip_file =='1':\n",
        "  # Save ZIP\n",
        "  filename = 'symbiota_data.zip'\n",
        "  with open(filename, 'wb') as zip_file:\n",
        "    for chunk in r.iter_content(chunk_size=128):\n",
        "      zip_file.write(chunk)\n",
        "  print(f'File {filename} saved.')"
      ],
      "execution_count": 54,
      "outputs": [
        {
          "output_type": "stream",
          "text": [
            "File symbiota_data.zip saved.\n"
          ],
          "name": "stdout"
        }
      ]
    },
    {
      "cell_type": "code",
      "metadata": {
        "id": "-mg5GXZNIvGg"
      },
      "source": [
        "# Extract occurrences.csv from zip\n",
        "import os\n",
        "import zipfile\n",
        "path = 'symbiota_data.zip'\n",
        "if zipfile.is_zipfile(path):\n",
        "  with zipfile.ZipFile(path) as zip_file_obj:\n",
        "    zip_file_obj.extract('occurrences.csv')\n",
        "else:\n",
        "  print('Invalid ZIP file.')"
      ],
      "execution_count": 55,
      "outputs": []
    },
    {
      "cell_type": "code",
      "metadata": {
        "id": "2WQZnqnKsntA"
      },
      "source": [
        "# If ZIP extraction fails, ZIP file downloaded above must be un-zipped and the occurrcences.csv file added to the working directory"
      ],
      "execution_count": 56,
      "outputs": []
    },
    {
      "cell_type": "code",
      "metadata": {
        "id": "Ialy_7eSmcO4"
      },
      "source": [
        "# Specify relevent fields for extraction from dataset\n",
        "occurrence_fields = [\n",
        "  'catalogNumber',\n",
        "  'family',\n",
        "  'scientificName',\n",
        "  'recordedBy',\n",
        "  'recordNumber',\n",
        "  'eventDate',\n",
        "  'verbatimEventDate',\n",
        "  'occurrenceRemarks',\n",
        "  'habitat',\n",
        "  'country',\n",
        "  'stateProvince',\n",
        "  'county',\n",
        "  'municipality',\n",
        "  'locality',\n",
        "  'locationRemarks',\n",
        "  'decimalLatitude',\n",
        "  'decimalLongitude',\n",
        "  'coordinateUncertaintyInMeters',\n",
        "  'verbatimCoordinates',                     \n",
        "]\n",
        "\n",
        "# Compile structured data into single document records for analysis\n",
        "docs = []\n",
        "import csv\n",
        "with open('occurrences.csv', 'r') as csvfile:\n",
        "  reader = csv.DictReader(csvfile)\n",
        "  #doc = ''\n",
        "  for row in reader:\n",
        "    doc = ''\n",
        "    #print(row['scientificName'])\n",
        "    for column in row:\n",
        "      if str(column) in occurrence_fields:\n",
        "        #print(column)\n",
        "        if len(row[column]) > 0:\n",
        "          doc += row[column] + '\\n'\n",
        "    #print(doc)\n",
        "    docs.append(doc)\n",
        "    #doc = ''\n",
        "\n",
        "# Use only the first 500 records\n",
        "doc_sample = docs[:500]\n",
        "#for doc in doc_sample:\n",
        "#  print('***')\n",
        "#  print('doc:', doc)\n"
      ],
      "execution_count": 57,
      "outputs": []
    },
    {
      "cell_type": "code",
      "metadata": {
        "colab": {
          "base_uri": "https://localhost:8080/"
        },
        "id": "DCkkzFnjJ4ow",
        "outputId": "f6763157-806e-4b31-a0c0-0d973159c367"
      },
      "source": [
        "print(len(docs))\n",
        "print(len(doc_sample))"
      ],
      "execution_count": 58,
      "outputs": [
        {
          "output_type": "stream",
          "text": [
            "2704\n",
            "500\n"
          ],
          "name": "stdout"
        }
      ]
    },
    {
      "cell_type": "code",
      "metadata": {
        "colab": {
          "base_uri": "https://localhost:8080/"
        },
        "id": "zGNMD3btzhKa",
        "outputId": "d2fb3bb8-c4f3-4a66-f1b1-6df692394d0a"
      },
      "source": [
        "# Import modules and download\n",
        "import nltk\n",
        "import string\n",
        "nltk.download('punkt')\n",
        "nltk.download('averaged_perceptron_tagger')\n",
        "from nltk.corpus import stopwords\n",
        "nltk.download('stopwords')\n",
        "nltk.download('wordnet')\n",
        "from textblob import Word\n"
      ],
      "execution_count": 59,
      "outputs": [
        {
          "output_type": "stream",
          "text": [
            "[nltk_data] Downloading package punkt to /root/nltk_data...\n",
            "[nltk_data]   Package punkt is already up-to-date!\n",
            "[nltk_data] Downloading package averaged_perceptron_tagger to\n",
            "[nltk_data]     /root/nltk_data...\n",
            "[nltk_data]   Package averaged_perceptron_tagger is already up-to-\n",
            "[nltk_data]       date!\n",
            "[nltk_data] Downloading package stopwords to /root/nltk_data...\n",
            "[nltk_data]   Package stopwords is already up-to-date!\n",
            "[nltk_data] Downloading package wordnet to /root/nltk_data...\n",
            "[nltk_data]   Package wordnet is already up-to-date!\n"
          ],
          "name": "stdout"
        }
      ]
    },
    {
      "cell_type": "code",
      "metadata": {
        "id": "9wjUUa4F-s1j"
      },
      "source": [
        "# Tokenize and clean data\n",
        "\n",
        "# tokenize\n",
        "from nltk.tokenize import word_tokenize\n",
        "sents_tokenized = []\n",
        "for sentence in doc_sample:\n",
        "  sent_tokenized = word_tokenize(sentence)\n",
        "  sents_tokenized.append(sent_tokenized)\n",
        "\n",
        "#for sent in sents_tokenized:\n",
        "#  print('Tokenized:', sents_tokenized)\n",
        "\n",
        "#Lower casing\n",
        "lowered = []\n",
        "for sent in sents_tokenized:\n",
        "  words = [word.lower() for word in sent]\n",
        "  lowered.append(words)\n",
        "#for sent in lowered:\n",
        "#  print('Lowercase:', lowered)\n",
        "\n",
        "# Punctuation removal\n",
        "# make translation for punctuation\n",
        "remove_punctuation = str.maketrans(string.punctuation, ' '*len(string.punctuation))\n",
        "#text = text.translate(remove_punctuation)\n",
        "no_punc = []\n",
        "for sent in lowered:\n",
        "  no_punc_sent = []\n",
        "  for word in sent:\n",
        "\n",
        "    #no_punc_sent.append(word.translate(remove_punctuation))\n",
        "    cleaned_word = word.translate(remove_punctuation)\n",
        "    # remove any remaining whitespace\n",
        "    cleaned_word = cleaned_word.strip()\n",
        "    if len(cleaned_word) > 0:\n",
        "      no_punc_sent.append(cleaned_word)\n",
        "  no_punc.append(no_punc_sent)\n",
        "#print('No punctuation:', no_punc)\n",
        "\n",
        "# Stopwords removal\n",
        "# Load NLTK stopwords\n",
        "stop = stopwords.words('english')\n",
        "no_stops = []\n",
        "for sent in no_punc:\n",
        "  no_stop_sent = []\n",
        "  for word in sent:\n",
        "    if word not in stop:\n",
        "      no_stop_sent.append(word)\n",
        "  no_stops.append(no_stop_sent)\n",
        "#print('Stopwords removed:', no_stops)"
      ],
      "execution_count": 60,
      "outputs": []
    },
    {
      "cell_type": "code",
      "metadata": {
        "id": "PU3eSROeCSA5"
      },
      "source": [
        "#Lemmatization\n",
        "lemmed = []\n",
        "for sent in no_stops:\n",
        "  new_sent = []\n",
        "  for word in sent:\n",
        "    new_sent.append(Word(word).lemmatize())\n",
        "  lemmed.append(new_sent)\n",
        "#print('Lemmatized:', lemmed)"
      ],
      "execution_count": 61,
      "outputs": []
    },
    {
      "cell_type": "code",
      "metadata": {
        "id": "Z3B3MpH0zU-O"
      },
      "source": [
        "# Tag parts of speech\n",
        "pos = []\n",
        "pos_count = {}\n",
        "for sentence in lemmed:\n",
        "  pos.append(nltk.pos_tag(sentence))\n"
      ],
      "execution_count": 62,
      "outputs": []
    },
    {
      "cell_type": "code",
      "metadata": {
        "id": "ybwUJ5qmjBJV"
      },
      "source": [
        "# Check results in text file\n",
        "file_object = open('results.txt', 'w')\n",
        "for sentence in pos:\n",
        "  file_object.write(str(sentence))\n",
        "  file_object.write('\\n')\n",
        "file_object.close()\n",
        "\n",
        "# Count POS tags\n",
        "for sent_tagged in pos:\n",
        "  for tag in sent_tagged:\n",
        "    pos_tag = tag[1]\n",
        "    pos_tag_count = pos_count.get(pos_tag, 0)\n",
        "    pos_tag_count += 1\n",
        "    pos_count[pos_tag] = pos_tag_count"
      ],
      "execution_count": 63,
      "outputs": []
    },
    {
      "cell_type": "code",
      "metadata": {
        "colab": {
          "base_uri": "https://localhost:8080/"
        },
        "id": "b77mt2T2_GGl",
        "outputId": "d6279388-80e5-427a-9279-cc256665474c"
      },
      "source": [
        "print(pos_count)\n",
        "print(len(pos_count))"
      ],
      "execution_count": 64,
      "outputs": [
        {
          "output_type": "stream",
          "text": [
            "{'NN': 4588, 'JJ': 807, 'VBD': 203, 'CD': 2898, 'VBG': 23, 'IN': 63, 'VBZ': 55, 'NNS': 73, 'VBP': 173, 'CC': 9, 'RB': 90, 'WRB': 1, 'MD': 12, 'VB': 9, 'NNP': 4, 'VBN': 9, 'JJR': 2, 'FW': 16, '$': 2}\n",
            "19\n"
          ],
          "name": "stdout"
        }
      ]
    },
    {
      "cell_type": "code",
      "metadata": {
        "id": "C_xLYsbQmuyP",
        "colab": {
          "base_uri": "https://localhost:8080/",
          "height": 350
        },
        "outputId": "d578a623-caec-4870-b201-d23edf0fae98"
      },
      "source": [
        "# plot data\n",
        "import matplotlib.pylab as plt\n",
        "\n",
        "graph_data = pos_count.items()\n",
        "# Sort by POS tag names\n",
        "graph_data = sorted(graph_data) \n",
        "x, y = zip(*graph_data) \n",
        "plt.figure(figsize=(20,5))\n",
        "plt.xlabel(\"POS tag\")\n",
        "plt.ylabel(\"Count\")\n",
        "plt.title(\"Frequency of POS Tags in Dataset\")\n",
        "plt.bar(x, y)\n",
        "plt.show()"
      ],
      "execution_count": 65,
      "outputs": [
        {
          "output_type": "display_data",
          "data": {
            "image/png": "[encoded data removed]",
            "text/plain": [
              "<Figure size 1440x360 with 1 Axes>"
            ]
          },
          "metadata": {
            "tags": [],
            "needs_background": "light"
          }
        }
      ]
    }
  ]
}