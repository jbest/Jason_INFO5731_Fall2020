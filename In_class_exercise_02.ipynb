{
  "nbformat": 4,
  "nbformat_minor": 0,
  "metadata": {
    "colab": {
      "name": "In_class_exercise_02.ipynb",
      "provenance": [],
      "collapsed_sections": [],
      "toc_visible": true
    },
    "kernelspec": {
      "display_name": "Python 3",
      "language": "python",
      "name": "python3"
    },
    "language_info": {
      "codemirror_mode": {
        "name": "ipython",
        "version": 3
      },
      "file_extension": ".py",
      "mimetype": "text/x-python",
      "name": "python",
      "nbconvert_exporter": "python",
      "pygments_lexer": "ipython3",
      "version": "3.7.4"
    }
  },
  "cells": [
    {
      "cell_type": "markdown",
      "metadata": {
        "id": "view-in-github"
      },
      "source": [
        "<a href=\"https://colab.research.google.com/github/unt-iialab/INFO5731_Spring2020/blob/master/In_class_exercise/In_class_exercise_02.ipynb\" target=\"_parent\"><img src=\"https://colab.research.google.com/assets/colab-badge.svg\" alt=\"Open In Colab\"/></a>"
      ]
    },
    {
      "cell_type": "markdown",
      "metadata": {
        "id": "oo5bsEh2eeWi"
      },
      "source": [
        "# **The second In-class-exercise (1/27/2021, 20 points in total)**\n"
      ]
    },
    {
      "cell_type": "markdown",
      "metadata": {
        "id": "2sPQ58dIeqgp"
      },
      "source": [
        "(1) Write a Python program to find the duplicate elements in a given array of integers. Return -1 If there are no such elements. (4 points)"
      ]
    },
    {
      "cell_type": "code",
      "metadata": {
        "colab": {
          "base_uri": "https://localhost:8080/"
        },
        "id": "mnrvKMFTeoJR",
        "outputId": "730ad160-d953-4348-e919-a2e0793bc784"
      },
      "source": [
        "def get_dups(sample):\n",
        "  count = {}\n",
        "  for i in sample:\n",
        "    i_count = count.get(i, 0)\n",
        "    i_count += 1\n",
        "    count[i] = i_count\n",
        "  dups = [d for d in count if count[d] > 1]\n",
        "  if dups:\n",
        "    return dups\n",
        "  else:\n",
        "    return -1\n",
        "\n",
        "sample = [6,1,2,3,4,3,5,4,1]\n",
        "#sample = [1,2,3,4]\n",
        "print(get_dups(sample))"
      ],
      "execution_count": null,
      "outputs": [
        {
          "output_type": "stream",
          "text": [
            "[1, 3, 4]\n"
          ],
          "name": "stdout"
        }
      ]
    },
    {
      "cell_type": "markdown",
      "metadata": {
        "id": "YYrH6n6IhZoQ"
      },
      "source": [
        "(2) Write a Python program to select all the Sundays of a specified year. (4 points)\n",
        "\n"
      ]
    },
    {
      "cell_type": "code",
      "metadata": {
        "colab": {
          "base_uri": "https://localhost:8080/"
        },
        "id": "OSfPLd23eLpX",
        "outputId": "ce880546-987f-42dd-d894-eea581d62bfc"
      },
      "source": [
        "from datetime import date\n",
        "\n",
        "#year = 2021\n",
        "print('Enter a year to find all Sundays:')\n",
        "year = int(input())\n",
        "sundays = []\n",
        "for month in range (1, 13):\n",
        "  for day in range(1,33):\n",
        "    try:\n",
        "      date_eval = date(year,month,day)\n",
        "      # Sunday = 6\n",
        "      if date_eval.weekday() == 6:\n",
        "        sundays.append(date_eval)\n",
        "    except ValueError:\n",
        "      # exceeded days in month\n",
        "      continue\n",
        "\n",
        "print(f'Dates of Sundays in {year}:')\n",
        "for sunday in sundays:\n",
        "  print(sunday)\n",
        "\n"
      ],
      "execution_count": 35,
      "outputs": [
        {
          "output_type": "stream",
          "text": [
            "Enter a year to find all Sundays:\n",
            "1990\n",
            "Dates of Sundays in 1990:\n",
            "1990-01-07\n",
            "1990-01-14\n",
            "1990-01-21\n",
            "1990-01-28\n",
            "1990-02-04\n",
            "1990-02-11\n",
            "1990-02-18\n",
            "1990-02-25\n",
            "1990-03-04\n",
            "1990-03-11\n",
            "1990-03-18\n",
            "1990-03-25\n",
            "1990-04-01\n",
            "1990-04-08\n",
            "1990-04-15\n",
            "1990-04-22\n",
            "1990-04-29\n",
            "1990-05-06\n",
            "1990-05-13\n",
            "1990-05-20\n",
            "1990-05-27\n",
            "1990-06-03\n",
            "1990-06-10\n",
            "1990-06-17\n",
            "1990-06-24\n",
            "1990-07-01\n",
            "1990-07-08\n",
            "1990-07-15\n",
            "1990-07-22\n",
            "1990-07-29\n",
            "1990-08-05\n",
            "1990-08-12\n",
            "1990-08-19\n",
            "1990-08-26\n",
            "1990-09-02\n",
            "1990-09-09\n",
            "1990-09-16\n",
            "1990-09-23\n",
            "1990-09-30\n",
            "1990-10-07\n",
            "1990-10-14\n",
            "1990-10-21\n",
            "1990-10-28\n",
            "1990-11-04\n",
            "1990-11-11\n",
            "1990-11-18\n",
            "1990-11-25\n",
            "1990-12-02\n",
            "1990-12-09\n",
            "1990-12-16\n",
            "1990-12-23\n",
            "1990-12-30\n"
          ],
          "name": "stdout"
        }
      ]
    },
    {
      "cell_type": "markdown",
      "metadata": {
        "id": "UIpziZ6Sjie-"
      },
      "source": [
        "(3) Python files reading and writing. Download the “[exercise_02_data _collection.zip](https://github.com/unt-iialab/info5731_spring2021/blob/main/class_exercises/exercise_02_data_collection.zip)” to your local and un-zip it.\n",
        "\n",
        "*   Write a program to read all the txt files and save the sentences in all the files into one csv file with two columns, the first column is sentence id (txt file name+sentence line number), the second column is the sentence text content. (4 points)\n",
        "*   Remove all the punctuations from the sentences, save the processed sentences into a new column in the same csv file. (4 points)\n",
        "*   Ask the user to enter a word, return all the sentences that include this word, three kinds of information should be returned: sentence id, sentence text content, the count that user input word appear in the sentence. (4 points)\n",
        "\n"
      ]
    },
    {
      "cell_type": "code",
      "metadata": {
        "id": "f3CUsrWOj1Xy",
        "colab": {
          "base_uri": "https://localhost:8080/"
        },
        "outputId": "dff224c1-009e-45b7-fbde-e875380ece62"
      },
      "source": [
        "from pathlib import Path\n",
        "import string\n",
        "\n",
        "p = Path('exercise_02_data_collection')\n",
        "files = p.glob('*.txt')\n",
        "output_file = open('ex2_output.csv', 'w')\n",
        "output_writer = csv.writer(output_file)\n",
        "all_sents = []\n",
        "for file in files:\n",
        "  filename = file.name\n",
        "  # read file\n",
        "  with open(file, 'r') as text_file:\n",
        "    lines = text_file.readlines()\n",
        "    #print(data)\n",
        "    for i, line in enumerate(lines):\n",
        "      # remove punctuation\n",
        "      line_no_punct = line.translate(str.maketrans('', '', string.punctuation))\n",
        "      sent_id = filename + str(i)\n",
        "      # write to CSV\n",
        "      output_writer.writerow([sent_id, line, line_no_punct])\n",
        "      # Add line to list for later processing\n",
        "      all_sents.append([sent_id, line])\n",
        "\n",
        "#Close CSV file\n",
        "output_file.close()\n",
        "\n",
        "# Get user input for string to search\n",
        "print('Enter a string to find in data:')\n",
        "test = input()\n",
        "for sent in all_sents:\n",
        "  if test in sent[1]:\n",
        "    print(sent[0], sent[1], sent[1].count(test))\n"
      ],
      "execution_count": 37,
      "outputs": [
        {
          "output_type": "stream",
          "text": [
            "Enter a string to find in data:\n",
            "test\n",
            "ARTHROTEC.95.txt1 I went to my GP and the results of my blood test showed there was something wrong with my liver and I am a non-drinker.\n",
            " 1\n",
            "ARTHROTEC.63.txt5 My doctor prescribed me a topical cream , did some a vaginal test to exclude infections.\n",
            " 1\n",
            "ARTHROTEC.47.txt1 I just went for test and haven't gotten results yet, but Dr feels I have more than 1 form of arthritis, I also have a very sensitive stomach, this is cheaper and more approved by health insurance, so that is why this prescribed.\n",
            " 1\n",
            "ARTHROTEC.59.txt6 My doctor prescribed me a topical cream , did some a vaginal test to exclude infections.\n",
            " 1\n"
          ],
          "name": "stdout"
        }
      ]
    },
    {
      "cell_type": "markdown",
      "metadata": {
        "id": "-12cqmJEpZOh"
      },
      "source": [
        "(4) Install packages nltk, numpy, scipy, pandas, and sklearn on Google Colab. Write a program to test whether they are installed successfully. (3 points for extra)"
      ]
    },
    {
      "cell_type": "code",
      "metadata": {
        "id": "f1pn1Zl2qK77",
        "colab": {
          "base_uri": "https://localhost:8080/"
        },
        "outputId": "3ab6a486-1656-49df-f4a8-2f18a381b66b"
      },
      "source": [
        "!pip install nltk\n",
        "!pip install numpy\n",
        "!pip install scipy\n",
        "!pip install pandas\n",
        "!pip install sklearn\n",
        "\n",
        "import importlib\n",
        "\n",
        "def install_test(mod_name):\n",
        "  try:\n",
        "    importlib.import_module(mod_name)\n",
        "    print(mod_name, 'installed')\n",
        "  except ModuleNotFoundError:\n",
        "    print(mod_name,'not installed')\n",
        "mods = ['nltk', 'numpy', 'scipy', 'pandas', 'sklearn']\n",
        "for mod in mods:\n",
        "  install_test(mod)\n"
      ],
      "execution_count": null,
      "outputs": [
        {
          "output_type": "stream",
          "text": [
            "Requirement already satisfied: nltk in /usr/local/lib/python3.6/dist-packages (3.2.5)\n",
            "Requirement already satisfied: six in /usr/local/lib/python3.6/dist-packages (from nltk) (1.15.0)\n",
            "Requirement already satisfied: numpy in /usr/local/lib/python3.6/dist-packages (1.19.5)\n",
            "Requirement already satisfied: scipy in /usr/local/lib/python3.6/dist-packages (1.4.1)\n",
            "Requirement already satisfied: numpy>=1.13.3 in /usr/local/lib/python3.6/dist-packages (from scipy) (1.19.5)\n",
            "Requirement already satisfied: pandas in /usr/local/lib/python3.6/dist-packages (1.1.5)\n",
            "Requirement already satisfied: pytz>=2017.2 in /usr/local/lib/python3.6/dist-packages (from pandas) (2018.9)\n",
            "Requirement already satisfied: python-dateutil>=2.7.3 in /usr/local/lib/python3.6/dist-packages (from pandas) (2.8.1)\n",
            "Requirement already satisfied: numpy>=1.15.4 in /usr/local/lib/python3.6/dist-packages (from pandas) (1.19.5)\n",
            "Requirement already satisfied: six>=1.5 in /usr/local/lib/python3.6/dist-packages (from python-dateutil>=2.7.3->pandas) (1.15.0)\n",
            "Requirement already satisfied: sklearn in /usr/local/lib/python3.6/dist-packages (0.0)\n",
            "Requirement already satisfied: scikit-learn in /usr/local/lib/python3.6/dist-packages (from sklearn) (0.22.2.post1)\n",
            "Requirement already satisfied: numpy>=1.11.0 in /usr/local/lib/python3.6/dist-packages (from scikit-learn->sklearn) (1.19.5)\n",
            "Requirement already satisfied: joblib>=0.11 in /usr/local/lib/python3.6/dist-packages (from scikit-learn->sklearn) (1.0.0)\n",
            "Requirement already satisfied: scipy>=0.17.0 in /usr/local/lib/python3.6/dist-packages (from scikit-learn->sklearn) (1.4.1)\n",
            "nltk installed\n",
            "numpy installed\n",
            "scipy installed\n",
            "pandas installed\n",
            "sklearn installed\n"
          ],
          "name": "stdout"
        }
      ]
    }
  ]
}