{
  "nbformat": 4,
  "nbformat_minor": 0,
  "metadata": {
    "colab": {
      "name": "INFO5731_Assignment_One.ipynb",
      "provenance": [],
      "collapsed_sections": [],
      "toc_visible": true
    },
    "kernelspec": {
      "name": "python3",
      "display_name": "Python 3"
    }
  },
  "cells": [
    {
      "cell_type": "markdown",
      "metadata": {
        "id": "view-in-github"
      },
      "source": [
        "<a href=\"https://colab.research.google.com/github/unt-iialab/INFO5731_FALL2020/blob/master/Assignments/INFO5731_Assignment_One.ipynb\" target=\"_parent\"><img src=\"https://colab.research.google.com/assets/colab-badge.svg\" alt=\"Open In Colab\"/></a>"
      ]
    },
    {
      "cell_type": "markdown",
      "metadata": {
        "id": "Ryk8D1Q4Wsrp"
      },
      "source": [
        "# **INFO5731 Assignment One**"
      ]
    },
    {
      "cell_type": "markdown",
      "metadata": {
        "id": "90_NR8c5XGWc"
      },
      "source": [
        "# Question 1\n",
        "\n",
        "(20 points). Write a Python program to generate 12 random numbers between 1 and 100. Sort the list of numbers in ascending order and print it out. Sort the list of numbers in descending order and print it out. Calculate the average for the group and print it out."
      ]
    },
    {
      "cell_type": "code",
      "metadata": {
        "id": "5QX6bJjGWXY9",
        "colab": {
          "base_uri": "https://localhost:8080/"
        },
        "outputId": "325146cb-db48-4bf2-f9c9-e50ef8255bfb"
      },
      "source": [
        "import random\n",
        "\n",
        "#numbers = [n for n in range(12)]\n",
        "numbers = []\n",
        "for i in range(12):\n",
        "  numbers.append(random.randint(1,100))\n",
        "numbers.sort()\n",
        "# Numbers ascending\n",
        "print(numbers)\n",
        "numbers.sort(reverse=True)\n",
        "# Numbers descending\n",
        "print(numbers)\n",
        "num_sum = 0\n",
        "for i in numbers:\n",
        "  num_sum = num_sum + i\n",
        "# Average of numbers\n",
        "print(num_sum/len(numbers))\n"
      ],
      "execution_count": null,
      "outputs": [
        {
          "output_type": "stream",
          "text": [
            "[7, 22, 25, 27, 35, 56, 57, 58, 68, 72, 94, 98]\n",
            "[98, 94, 72, 68, 58, 57, 56, 35, 27, 25, 22, 7]\n",
            "51.583333333333336\n"
          ],
          "name": "stdout"
        }
      ]
    },
    {
      "cell_type": "markdown",
      "metadata": {
        "id": "1F_PZdH9Sh49"
      },
      "source": [
        "# Question 2\n",
        "(25 points). Write a program that will do the following string formatting tasks:\n",
        "\n",
        "(1) Ask the user to enter two sentences.\n",
        "\n",
        "(2) Make each sentence into a list. Each element in the list should correspond to a word in the sentence. For example, if the sentence is \"Alas! Am I alive? This is my first python program\", the program should print out ['Alas, '!', 'Am', 'I', 'alive, '?', 'This', 'is', 'my', 'first', 'python', 'program'].\n",
        "\n",
        "(3) Compare the two sentences. Print out a list of words that occur in both sentences.\n",
        "\n",
        "(4) Remove any punctuation from the sentence and print it back out. It should remove at least the following characters, but it can remove more: period(“.”), comma (“,”), semicolon (“;”), and colon (“:”)\n",
        "\n",
        "(5) Count the number of vowels in the sentences. Print out each vowel and the number of times it appears in the sentences, such as: a:2, e:1, i:0, etc"
      ]
    },
    {
      "cell_type": "code",
      "metadata": {
        "id": "Y0oOSlsOS0cq",
        "colab": {
          "base_uri": "https://localhost:8080/"
        },
        "outputId": "6637248b-1ec9-4234-fa02-6f81d4addaa3"
      },
      "source": [
        "print('Enter sentence one:')\n",
        "sent1 = input()\n",
        "print('Enter sentence two:')\n",
        "sent2 = input()\n",
        "punc = ['.',',','?','!',';',':']\n",
        "sent1_tosplit = sent1\n",
        "sent2_tosplit = sent2\n",
        "for char in punc:\n",
        "  # Add space around puct to retain after split.\n",
        "  repl = ' ' + char + ' '\n",
        "  sent1_tosplit = sent1_tosplit.replace(char, repl)\n",
        "  sent2_tosplit = sent2_tosplit.replace(char, repl)\n",
        "sent1_list = sent1_tosplit.split()\n",
        "sent2_list = sent2_tosplit.split()\n",
        "print('Sentences as lists:')\n",
        "print(sent1_list)\n",
        "print(sent2_list)\n",
        "shared = [item for item in set(sent1_list) if item in set(sent2_list)]\n",
        "print('Shared words:')\n",
        "print(shared)\n",
        "# Remove punctuation from original sentences\n",
        "sent1_no_punc = sent1\n",
        "sent2_no_punc = sent2\n",
        "for char in punc:\n",
        "  sent1_no_punc = sent1_no_punc.replace(char, '')\n",
        "  sent2_no_punc = sent2_no_punc.replace(char, '')\n",
        "print('Punctuation removed:')\n",
        "print(sent1_no_punc)\n",
        "print(sent2_no_punc)\n",
        "vowels = ['a','e','i','o','u']\n",
        "\n",
        "count_dict1 = {}\n",
        "for char in sent1:\n",
        "  if char in vowels:\n",
        "    char_count=count_dict1.get(char, 0)\n",
        "    char_count +=1\n",
        "    count_dict1[char] = char_count\n",
        "count_dict2 = {}\n",
        "for char in sent2:\n",
        "  if char in vowels:\n",
        "    char_count=count_dict2.get(char, 0)\n",
        "    char_count +=1\n",
        "    count_dict2[char] = char_count\n",
        "print('Vowel count:')\n",
        "print(count_dict1)\n",
        "print(count_dict2) "
      ],
      "execution_count": null,
      "outputs": [
        {
          "output_type": "stream",
          "text": [
            "Enter sentence one:\n",
            "Alas! Am I alive? This is my first python program.\n",
            "Enter sentence two:\n",
            "This is the first, easiest way to solve it!\n",
            "Sentences as lists:\n",
            "['Alas', '!', 'Am', 'I', 'alive', '?', 'This', 'is', 'my', 'first', 'python', 'program', '.']\n",
            "['This', 'is', 'the', 'first', ',', 'easiest', 'way', 'to', 'solve', 'it', '!']\n",
            "Shared words:\n",
            "['!', 'This', 'first', 'is']\n",
            "Punctuation removed:\n",
            "Alas Am I alive This is my first python program\n",
            "This is the first easiest way to solve it\n",
            "Vowel count:\n",
            "{'a': 3, 'i': 4, 'e': 1, 'o': 2}\n",
            "{'i': 5, 'e': 4, 'a': 2, 'o': 2}\n"
          ],
          "name": "stdout"
        }
      ]
    },
    {
      "cell_type": "markdown",
      "metadata": {
        "id": "CmFoI4jDS9nx"
      },
      "source": [
        "# Question 3 \n",
        "\n",
        "(15 points). The formula that describes the volume V of a sphere with radius r is the following:\n",
        "\n",
        "$ V=\\frac{4}{3}\\ast\\ \\pi\\ast\\ r^3 $\n",
        "\n",
        "Write a program to calculate the value of V when r is in the range of 1–10. Output the result in the following format:\n",
        "\n",
        "\tr\tV\n",
        "\t1\t…\n",
        "\t2\t…\n",
        "\t3\t…\n"
      ]
    },
    {
      "cell_type": "code",
      "metadata": {
        "id": "pEyqeioAT95b",
        "colab": {
          "base_uri": "https://localhost:8080/"
        },
        "outputId": "c8ac691e-1dea-4a4a-9656-3ac3daf78fa5"
      },
      "source": [
        "import math\n",
        "\n",
        "def volume(r):\n",
        "  V = 4/3 * math.pi * r**3\n",
        "  return V\n",
        "\n",
        "print('r\\tV')\n",
        "for r in range(1,11):\n",
        "  print(r,'\\t',volume(r))\n"
      ],
      "execution_count": 61,
      "outputs": [
        {
          "output_type": "stream",
          "text": [
            "r\tV\n",
            "1 \t 4.1887902047863905\n",
            "2 \t 33.510321638291124\n",
            "3 \t 113.09733552923254\n",
            "4 \t 268.082573106329\n",
            "5 \t 523.5987755982989\n",
            "6 \t 904.7786842338603\n",
            "7 \t 1436.7550402417319\n",
            "8 \t 2144.660584850632\n",
            "9 \t 3053.6280592892786\n",
            "10 \t 4188.790204786391\n"
          ],
          "name": "stdout"
        }
      ]
    },
    {
      "cell_type": "code",
      "metadata": {
        "id": "pMCr3l8tnu0j"
      },
      "source": [
        ""
      ],
      "execution_count": null,
      "outputs": []
    },
    {
      "cell_type": "markdown",
      "metadata": {
        "id": "z3tBE7E-Xn5X"
      },
      "source": [
        "# Question 4\n",
        "\n",
        "(40 points). In the field of Data Science, data is often formatted as a comma-delimited (CSV) file, where each line in a file corresponds to a field's value. Refer to Chapter 9 (p. 106) for more information on comma-delimited files. To answer this question, you will need to download the file [Assignment1_denton_housing.csv](https://github.com/unt-iialab/INFO5731_FALL2020/blob/master/Assignments/Assignment1_denton_housing.csv) included with this assignment. The [file Assignment1_denton_housing.csv](https://github.com/unt-iialab/INFO5731_FALL2020/blob/master/Assignments/Assignment1_denton_housing.csv) contains statistics about housing in the city of Denton from 2008 to 2014. Write a program to implement the following questions.\n",
        "\n",
        "(1) (10 pts) Calculate the difference in the number of Occupied Housing Units from year to year and print it. The difference must be calculated for the consecutive years such as 2008-2009, 2009-2010 etc. Finally, print the values in the ascending order.\n",
        "\n",
        "(2) (10 pts) For all the years, calculate the percentage of housing units which are vacant an occupied. Print the results in the following format:\n",
        "\n",
        "Year Vacant Housing Units Occupied Housing Units\n",
        "\n",
        "    2008  30%   70%                          \n",
        "\t2009 ----- -----\n",
        "\t2010 ----- -----\n",
        "    2011 ----- -----\n",
        "\t2012 ----- -----\n",
        "    2013 ----- -----\n",
        "\t2014 ----- -----\n",
        "  \n",
        "  \n",
        "\n",
        "(3) (10 pts) Calculate and print the valued and years in which the highest number of housing units were vacant and occupied. Print the results in the following format:  \n",
        "\n",
        "                              Year\tValue\n",
        "\tVacant Housing Units\t  -----   -----\n",
        "\tOccupied Housing Units\t-----   -----\n",
        "\n",
        "(4) (10 pts) Calculate the harmonic mean of the total housing units and print it out. You can find the information about harmonic mean here: https://ncalculators.com/statistics/harmonic-mean-calculator.htm"
      ]
    },
    {
      "cell_type": "code",
      "metadata": {
        "id": "lqGYuHBhcsRH",
        "colab": {
          "base_uri": "https://localhost:8080/"
        },
        "outputId": "adfcd928-2eea-431d-cbec-404736d5c32d"
      },
      "source": [
        "import csv\n",
        "occupied_units = {}\n",
        "vacant_units = {}\n",
        "total_units = {}\n",
        "\n",
        "with open('Assignment1_denton_housing.csv') as csvfile:\n",
        "  reader = csv.DictReader(csvfile)\n",
        "  for row in reader:\n",
        "    if row['title_field'] == 'Occupied Housing Units':\n",
        "      occupied_units[row['year']] = row['value']\n",
        "    if row['title_field'] == 'Total Housing Units':\n",
        "      total_units[row['year']] = row['value']\n",
        "    if row['title_field'] == 'Vacant Housing Units':\n",
        "      vacant_units[row['year']] = row['value']\n",
        "\n",
        "# Question 4.1 - year to year difference for occupied units\n",
        "print('4.1 Occupied housing yearly difference(ascending):')\n",
        "occupied_diff = []\n",
        "for year in (range(2008,2014)):\n",
        "  year_range = str(year) + ' to ' + str(year+1)\n",
        "  diff = int(occupied_units[str(year+1)])-int(occupied_units[str(year)])\n",
        "  occupied_diff.append([year_range, diff])\n",
        "for item in sorted(occupied_diff, key = lambda occupied_diff: occupied_diff[1]):\n",
        "  print(item[0], item[1])\n",
        "\n",
        "# Question 4.2 - percentage of housing units which are vacant and occupied\n",
        "print('\\n4.2 - percent occupancy and vacancy.')\n",
        "print('Year\\tVacant\\tOccupied')\n",
        "for year in (range(2008,2015)):\n",
        "  vacant = int(vacant_units[str(year)])\n",
        "  occupied = int(occupied_units[str(year)])\n",
        "  total = int(total_units[str(year)])\n",
        "  print(f'{year}\\t{vacant/total:.0%}\\t{occupied/total:.0%}')\n",
        "\n",
        "# Question 4.3 max value and years for occupancy and vacancy \n",
        "print('\\n4.3 - Highest occupancy and vacancy.')\n",
        "max_vacant_year = max(vacant_units, key=vacant_units.get)\n",
        "max_occupied_year = max(occupied_units, key=occupied_units.get)\n",
        "\n",
        "print('                        Year\\tValue')\n",
        "print(f'Vacant Housing Units\\t{max_vacant_year}\\t{vacant_units[max_vacant_year]}')\n",
        "print(f'Occupied Housing Units\\t{max_occupied_year}\\t{occupied_units[max_occupied_year]}')\n",
        "\n",
        "# Question 4.4 Harmonic mean of total housing\n",
        "print('\\n4.4 - Harmonic mean of total housing.')\n",
        "denom = 0\n",
        "for year in total_units:\n",
        "  units = int(total_units[str(year)])\n",
        "  denom = denom + units ** -1\n",
        "harmonic_mean = len(total_units)/denom\n",
        "print(f'{harmonic_mean:.2f}')"
      ],
      "execution_count": 60,
      "outputs": [
        {
          "output_type": "stream",
          "text": [
            "4.1 Occupied housing yearly difference(ascending):\n",
            "2008 to 2009 -795\n",
            "2010 to 2011 -303\n",
            "2011 to 2012 1404\n",
            "2012 to 2013 1565\n",
            "2013 to 2014 2622\n",
            "2009 to 2010 5091\n",
            "\n",
            "4.2 - percent occupancy and vacancy.\n",
            "Year\tVacant\tOccupied\n",
            "2008\t11%\t89%\n",
            "2009\t9%\t91%\n",
            "2010\t8%\t92%\n",
            "2011\t9%\t91%\n",
            "2012\t7%\t93%\n",
            "2013\t9%\t91%\n",
            "2014\t6%\t94%\n",
            "\n",
            "4.3 - Highest occupancy and vacancy.\n",
            "                        Year\tValue\n",
            "Vacant Housing Units\t2008\t4483\n",
            "Occupied Housing Units\t2014\t46295\n",
            "\n",
            "4.4 - Harmonic mean of total housing.\n",
            "44398.29\n"
          ],
          "name": "stdout"
        }
      ]
    }
  ]
}