{
    "cells": [
        {
            "cell_type": "markdown",
            "metadata": {
                "id": "view-in-github"
            },
            "source": [
                "<a href=\"https://colab.research.google.com/github/unt-iialab/INFO5731_Spring2020/blob/master/In_class_exercise/In_class_exercise_01.ipynb\" target=\"_parent\"><img src=\"https://colab.research.google.com/assets/colab-badge.svg\" alt=\"Open In Colab\"/></a>"
            ]
        },
        {
            "cell_type": "markdown",
            "metadata": {
                "id": "DymRJbxDBCnf"
            },
            "source": [
                "# **The first In-class-exercise (9/2/2020, 20 points in total)**"
            ]
        },
        {
            "cell_type": "markdown",
            "metadata": {
                "id": "03jb4GZsBkBS"
            },
            "source": [
                "(1) Write a Python program to calculate the length of a string. (2 points)"
            ]
        },
        {
            "cell_type": "code",
            "execution_count": 118,
            "metadata": {
                "colab": {
                    "base_uri": "https://localhost:8080/"
                },
                "executionInfo": {
                    "elapsed": 683,
                    "status": "ok",
                    "timestamp": 1611195447511,
                    "user": {
                        "displayName": "Jason Best",
                        "photoUrl": "",
                        "userId": "15769521762743187523"
                    },
                    "user_tz": 360
                },
                "id": "YaGLbSHHB8Ej",
                "outputId": "e0ec127b-255e-4174-fa3b-e7bc0e71f973"
            },
            "outputs": [
                {
                    "name": "stdout",
                    "output_type": "stream",
                    "text": [
                        "12\n"
                    ]
                }
            ],
            "source": [
                "sample = 'Hello world!'\n",
                "def string_len(s):\n",
                "  return len(s)\n",
                "print(string_len(sample))"
            ]
        },
        {
            "cell_type": "markdown",
            "metadata": {
                "id": "jJDe71iLB616"
            },
            "source": [
                "(2) Write a Python program to count the number of characters in a string. (2 points)\n",
                "\n",
                "Sample String : 'google.com‘, \n",
                "\n",
                "Expected Result : {'o': 3, 'g': 2, '.': 1, 'e': 1, 'l': 1, 'm': 1, 'c': 1}"
            ]
        },
        {
            "cell_type": "code",
            "execution_count": 119,
            "metadata": {
                "colab": {
                    "base_uri": "https://localhost:8080/"
                },
                "executionInfo": {
                    "elapsed": 590,
                    "status": "ok",
                    "timestamp": 1611195450738,
                    "user": {
                        "displayName": "Jason Best",
                        "photoUrl": "",
                        "userId": "15769521762743187523"
                    },
                    "user_tz": 360
                },
                "id": "MtKskTzbCLaU",
                "outputId": "c817155d-4057-451f-a381-29313cd09a9b"
            },
            "outputs": [
                {
                    "name": "stdout",
                    "output_type": "stream",
                    "text": [
                        "{'g': 2, 'o': 3, 'l': 1, 'e': 1, '.': 1, 'c': 1, 'm': 1}\n"
                    ]
                }
            ],
            "source": [
                "sample = 'google.com'\n",
                "count_dict = {}\n",
                "for character in sample:\n",
                "  char_count=count_dict.get(character, 0)\n",
                "  char_count +=1\n",
                "  count_dict[character] = char_count\n",
                "print(count_dict)\n"
            ]
        },
        {
            "cell_type": "markdown",
            "metadata": {
                "id": "55W9AMdXCSpV"
            },
            "source": [
                "(3) Write a Python program to sum all the items in a list. (2 points)"
            ]
        },
        {
            "cell_type": "code",
            "execution_count": 120,
            "metadata": {
                "colab": {
                    "base_uri": "https://localhost:8080/"
                },
                "executionInfo": {
                    "elapsed": 302,
                    "status": "ok",
                    "timestamp": 1611195452752,
                    "user": {
                        "displayName": "Jason Best",
                        "photoUrl": "",
                        "userId": "15769521762743187523"
                    },
                    "user_tz": 360
                },
                "id": "I57NXsauCec2",
                "outputId": "743b51ae-0e66-4887-d042-4cfd4034bbc7"
            },
            "outputs": [
                {
                    "name": "stdout",
                    "output_type": "stream",
                    "text": [
                        "6\n"
                    ]
                }
            ],
            "source": [
                "sample = [1,2,3]\n",
                "result = 0\n",
                "for i in sample:\n",
                "  result = result + i\n",
                "print(result)"
            ]
        },
        {
            "cell_type": "markdown",
            "metadata": {
                "id": "4ulBZ6yhCi9F"
            },
            "source": [
                "(4) Write a Python program to get a string from a given string where all occurrences of its first char have been changed to '\\$', except the first char itself. (2 points)\n",
                "\n",
                "Sample String : 'restart‘, \n",
                "\n",
                "Expected Result : 'resta\\$t'"
            ]
        },
        {
            "cell_type": "code",
            "execution_count": 121,
            "metadata": {
                "colab": {
                    "base_uri": "https://localhost:8080/"
                },
                "executionInfo": {
                    "elapsed": 475,
                    "status": "ok",
                    "timestamp": 1611195456339,
                    "user": {
                        "displayName": "Jason Best",
                        "photoUrl": "",
                        "userId": "15769521762743187523"
                    },
                    "user_tz": 360
                },
                "id": "Fj0XhwbBCw2o",
                "outputId": "69733148-270b-4107-cb08-41741d8555c6"
            },
            "outputs": [
                {
                    "name": "stdout",
                    "output_type": "stream",
                    "text": [
                        "resta$t\n"
                    ]
                }
            ],
            "source": [
                "sample = 'restart'\n",
                "try:\n",
                "  first = sample[0]\n",
                "  replaced = sample.replace(first,'$')\n",
                "  result = first + replaced[1:]\n",
                "  print(result)\n",
                "except IndexError:\n",
                "  print('')"
            ]
        },
        {
            "cell_type": "markdown",
            "metadata": {
                "id": "_bIP7s1MCzue"
            },
            "source": [
                "(5) Write a program with python which could accept two parameter a and b to calculate and output the result of S, where \n",
                "\n",
                "$\\ S=3.14*(1+a/b)^3$ (3 points)\n",
                "\n"
            ]
        },
        {
            "cell_type": "code",
            "execution_count": 122,
            "metadata": {
                "colab": {
                    "base_uri": "https://localhost:8080/"
                },
                "executionInfo": {
                    "elapsed": 353,
                    "status": "ok",
                    "timestamp": 1611195461092,
                    "user": {
                        "displayName": "Jason Best",
                        "photoUrl": "",
                        "userId": "15769521762743187523"
                    },
                    "user_tz": 360
                },
                "id": "w79QilHXD3Mg",
                "outputId": "aff72877-6fbf-4b26-ac65-9f63cba35518"
            },
            "outputs": [
                {
                    "name": "stdout",
                    "output_type": "stream",
                    "text": [
                        "10.5975\n"
                    ]
                }
            ],
            "source": [
                "def calc(a, b):\n",
                "  S = 3.14 * (1 + a/b)**3\n",
                "  return S\n",
                "\n",
                "print(calc(a=1, b=2))"
            ]
        },
        {
            "cell_type": "markdown",
            "metadata": {
                "id": "xCa2bK9aD4Q3"
            },
            "source": [
                "(6) Write a Python program to concatenate following dictionaries to create a new one. (3 points)\n",
                "\n",
                "Sample Dictionary : dic1={1:10, 2:20}, dic2={3:30, 4:40}, dic3={5:50,6:60}, \n",
                "\n",
                "Expected Result : {1: 10, 2: 20, 3: 30, 4: 40, 5: 50, 6: 60}\n"
            ]
        },
        {
            "cell_type": "code",
            "execution_count": 123,
            "metadata": {
                "colab": {
                    "base_uri": "https://localhost:8080/"
                },
                "executionInfo": {
                    "elapsed": 304,
                    "status": "ok",
                    "timestamp": 1611195463746,
                    "user": {
                        "displayName": "Jason Best",
                        "photoUrl": "",
                        "userId": "15769521762743187523"
                    },
                    "user_tz": 360
                },
                "id": "_z4aLqAbEET1",
                "outputId": "546f12c8-9bd2-453e-92f9-f64992ef2a0b"
            },
            "outputs": [
                {
                    "name": "stdout",
                    "output_type": "stream",
                    "text": [
                        "{1: 10, 2: 20, 3: 30, 4: 40, 5: 50, 6: 60}\n"
                    ]
                }
            ],
            "source": [
                "dic1={1:10, 2:20}\n",
                "dic2={3:30, 4:40}\n",
                "dic3={5:50,6:60}\n",
                "result = {}\n",
                "result.update(dic1)\n",
                "result.update(dic2)\n",
                "result.update(dic3)\n",
                "print(result)"
            ]
        },
        {
            "cell_type": "markdown",
            "metadata": {
                "id": "0v48Vqa7FrQh"
            },
            "source": [
                "(7) Write a Python program to check whether an element exists within a tuple. (3 points)"
            ]
        },
        {
            "cell_type": "code",
            "execution_count": 124,
            "metadata": {
                "colab": {
                    "base_uri": "https://localhost:8080/"
                },
                "executionInfo": {
                    "elapsed": 403,
                    "status": "ok",
                    "timestamp": 1611195465796,
                    "user": {
                        "displayName": "Jason Best",
                        "photoUrl": "",
                        "userId": "15769521762743187523"
                    },
                    "user_tz": 360
                },
                "id": "7WEmgq-DF2P1",
                "outputId": "8b66471e-9d69-4d1b-c98e-c7b5e9b51d69"
            },
            "outputs": [
                {
                    "name": "stdout",
                    "output_type": "stream",
                    "text": [
                        "True\n",
                        "False\n"
                    ]
                }
            ],
            "source": [
                "sample = (1,2,3,'test','in')\n",
                "test1 = 'in'\n",
                "test2 = 'out'\n",
                "print(test1 in sample)\n",
                "print(test2 in sample)"
            ]
        },
        {
            "cell_type": "markdown",
            "metadata": {
                "id": "vD5PYLMuGga_"
            },
            "source": [
                "(8) Write a Python program to find maximum and the minimum value in a set. (3 points)"
            ]
        },
        {
            "cell_type": "code",
            "execution_count": 125,
            "metadata": {
                "colab": {
                    "base_uri": "https://localhost:8080/"
                },
                "executionInfo": {
                    "elapsed": 304,
                    "status": "ok",
                    "timestamp": 1611195485238,
                    "user": {
                        "displayName": "Jason Best",
                        "photoUrl": "",
                        "userId": "15769521762743187523"
                    },
                    "user_tz": 360
                },
                "id": "t0D5kdJUGjjw",
                "outputId": "a25ca5ce-bd05-4f9e-d400-f0f9f33d70f1"
            },
            "outputs": [
                {
                    "name": "stdout",
                    "output_type": "stream",
                    "text": [
                        "Maximum: 44\n",
                        "Minimum: -400\n"
                    ]
                }
            ],
            "source": [
                "sample = set([1,2,3,7,0,44,21,44,2,-400])\n",
                "print('Maximum:', max(sample))\n",
                "print('Minimum:', min(sample))"
            ]
        },
        {
            "cell_type": "markdown",
            "metadata": {
                "id": "uHkd-y5VhVWC"
            },
            "source": [
                "(9) Write a Python program to randomly divide the students in this class into five groups for term projects, each group should have at least 3 students but no more than 5 students (including 5). Here is the students list: (3 points for extra)\n",
                "\n",
                "studnet_list = ['vmb0067','pc0353','snd0097','yye0005','sg0940','bk0301','rak0120','rrk0058','spk0057','vl0135','nm0547','pn0159',\n",
                "                'msp0174','dd0420','ds0761','rs0850','ss1995','at0739','at0768','mv0299','tv0119','dy0091']"
            ]
        },
        {
            "cell_type": "code",
            "execution_count": 126,
            "metadata": {
                "colab": {
                    "base_uri": "https://localhost:8080/"
                },
                "executionInfo": {
                    "elapsed": 306,
                    "status": "ok",
                    "timestamp": 1611195487459,
                    "user": {
                        "displayName": "Jason Best",
                        "photoUrl": "",
                        "userId": "15769521762743187523"
                    },
                    "user_tz": 360
                },
                "id": "3iGbmcOBhTwy",
                "outputId": "0352635a-9408-4bf1-f115-d78b0b001e9b"
            },
            "outputs": [
                {
                    "name": "stdout",
                    "output_type": "stream",
                    "text": [
                        "[['yye0005', 'msp0174', 'vmb0067', 'ss1995', 'rak0120'], ['tv0119', 'dy0091', 'pn0159', 'spk0057'], ['pc0353', 'rs0850', 'at0739', 'snd0097', 'at0768'], ['ds0761', 'vl0135', 'dd0420', 'sg0940', 'nm0547'], ['bk0301', 'mv0299', 'rrk0058']]\n",
                        "5 ['yye0005', 'msp0174', 'vmb0067', 'ss1995', 'rak0120']\n",
                        "4 ['tv0119', 'dy0091', 'pn0159', 'spk0057']\n",
                        "5 ['pc0353', 'rs0850', 'at0739', 'snd0097', 'at0768']\n",
                        "5 ['ds0761', 'vl0135', 'dd0420', 'sg0940', 'nm0547']\n",
                        "3 ['bk0301', 'mv0299', 'rrk0058']\n"
                    ]
                }
            ],
            "source": [
                "from random import *\n",
                "studnet_list = ['vmb0067','pc0353','snd0097','yye0005','sg0940','bk0301','rak0120','rrk0058','spk0057','vl0135','nm0547','pn0159', 'msp0174','dd0420','ds0761','rs0850','ss1995','at0739','at0768','mv0299','tv0119','dy0091']\n",
                "# Sample list with more students than fit in five groups\n",
                "#studnet_list = ['jhb001','jhb002','jhb003','jhb004','jhb005','vmb0067','pc0353','snd0097','yye0005','sg0940','bk0301','rak0120','rrk0058','spk0057','vl0135','nm0547','pn0159', 'msp0174','dd0420','ds0761','rs0850','ss1995','at0739','at0768','mv0299','tv0119','dy0091']\n",
                "\n",
                "groups = [[],[],[],[],[]]\n",
                "while len(studnet_list) > 0:\n",
                "  # randomly select a group\n",
                "  rand_group_num = randint(0,4)\n",
                "  # check if group maximally filled\n",
                "  if len(groups[rand_group_num]) >= 5:\n",
                "    # Do not add to group\n",
                "    continue\n",
                "  #check if all groups are minimally filled\n",
                "  if len([g for g in groups if len(g)>=3]) != len(groups):\n",
                "      # Assign student to group unless it is minimally filled\n",
                "      if len(groups[rand_group_num]) >= 3:\n",
                "        # Skip this group\n",
                "        continue\n",
                "  # randomly select a student\n",
                "  rand_student_num = randint(0,len(studnet_list)-1)\n",
                "  rand_student = studnet_list[rand_student_num]\n",
                "  #print(rand_student)\n",
                "  # add student to group\n",
                "  groups[rand_group_num].append(rand_student)\n",
                "  # remove student from list\n",
                "  del studnet_list[rand_student_num]\n",
                "  # Check if groups are all full\n",
                "  if len([g for g in groups if len(g)==5]) == len(groups):\n",
                "    print('All groups are full')\n",
                "    print('Unassigned students:', studnet_list)\n",
                "    break\n",
                "\n",
                "print(groups)\n",
                "for group in groups:\n",
                "  print(len(group), group)"
            ]
        }
    ],
    "metadata": {
        "colab": {
            "collapsed_sections": [],
            "name": "Copy of In_class_exercise_01.ipynb",
            "provenance": [
                {
                    "file_id": "177mD8625jAd58dPTY344VWNdPcFVcdga",
                    "timestamp": 1611195672512
                }
            ]
        },
        "kernelspec": {
            "display_name": "Python 3",
            "language": "python",
            "name": "python3"
        },
        "language_info": {
            "codemirror_mode": {
                "name": "ipython",
                "version": 3
            },
            "file_extension": ".py",
            "mimetype": "text/x-python",
            "name": "python",
            "nbconvert_exporter": "python",
            "pygments_lexer": "ipython3",
            "version": "3.7.4"
        }
    },
    "nbformat": 4,
    "nbformat_minor": 0
}